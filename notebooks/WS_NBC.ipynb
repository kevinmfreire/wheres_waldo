{
  "cells": [
    {
      "cell_type": "markdown",
      "metadata": {
        "id": "oObWHIMIP8dA"
      },
      "source": [
        "# Web Scrapping NBC News"
      ]
    },
    {
      "cell_type": "code",
      "execution_count": 275,
      "metadata": {
        "id": "ljXZE40tPutB"
      },
      "outputs": [],
      "source": [
        "import requests\n",
        "from bs4 import BeautifulSoup\n",
        "import numpy as np\n",
        "import pandas as pd"
      ]
    },
    {
      "cell_type": "markdown",
      "metadata": {
        "id": "9p9Zzz6EQCeM"
      },
      "source": [
        "## Obtain List of news from the coverpage"
      ]
    },
    {
      "cell_type": "markdown",
      "metadata": {
        "id": "2TBlyV0FQHVs"
      },
      "source": [
        "URL Definition:"
      ]
    },
    {
      "cell_type": "code",
      "execution_count": 276,
      "metadata": {
        "id": "yBcS4VDxQJuf"
      },
      "outputs": [],
      "source": [
        "# url definition\n",
        "url = 'https://www.nbcnews.com/'"
      ]
    },
    {
      "cell_type": "code",
      "execution_count": 277,
      "metadata": {
        "colab": {
          "base_uri": "https://localhost:8080/"
        },
        "id": "jtdP178wQS2u",
        "outputId": "2957df81-c580-4b76-85d7-9d4c58082b40"
      },
      "outputs": [
        {
          "name": "stdout",
          "output_type": "stream",
          "text": [
            "200\n"
          ]
        },
        {
          "data": {
            "text/plain": [
              "40"
            ]
          },
          "execution_count": 277,
          "metadata": {},
          "output_type": "execute_result"
        }
      ],
      "source": [
        "# Request\n",
        "r1 = requests.get(url)\n",
        "print(r1.status_code)\n",
        "\n",
        "# We'll save in coverpage the cover page content\n",
        "coverpage = r1.content\n",
        "\n",
        "# Soup creation\n",
        "soup1 = BeautifulSoup(coverpage, 'html5lib')\n",
        "\n",
        "# News identification\n",
        "coverpage_news = []\n",
        "for tag in soup1.find_all('h2', class_='styles_headline__ice3t'):\n",
        "  for anchor in tag.find_all('a'):\n",
        "    coverpage_news.append(anchor)\n",
        "len(coverpage_news)\n"
      ]
    },
    {
      "cell_type": "markdown",
      "metadata": {
        "id": "w64SSNaAR57B"
      },
      "source": [
        "Now we have a list in which every element is a news article."
      ]
    },
    {
      "cell_type": "code",
      "execution_count": 278,
      "metadata": {
        "colab": {
          "base_uri": "https://localhost:8080/"
        },
        "id": "sVRmMm9CSBHf",
        "outputId": "6c8201f4-8130-4ff8-e482-5de02abc57b1"
      },
      "outputs": [
        {
          "data": {
            "text/plain": [
              "[<a href=\"https://www.nbcnews.com/politics/joe-biden/biden-bounces-back-bike-fall-delaware-beach-home-rcna34251\">Biden bounces back after bike fall near Delaware beach home</a>,\n",
              " <a href=\"https://www.nbcnews.com/news/world/big-sanction-big-russian-bank-still-operates-freely-global-economy-hel-rcna34123\">Ukraine is accusing a major Russian bank of financing the war</a>,\n",
              " <a href=\"https://www.nbcnews.com/news/us-news/free-school-lunches-set-end-creating-perfect-storm-high-inflation-rcna33688\">Free school lunches for all set to end, creating ‘perfect storm’ amid high inflation</a>,\n",
              " <a href=\"https://www.nbcnews.com/news/us-news/senator-questioned-supreme-court-birth-control-ruling-led-campus-group-rcna32192\">Senator who questioned Supreme Court birth control ruling led campus group that promoted it</a>,\n",
              " <a href=\"https://www.nbcnews.com/tech/apple/apple-store-union-vote-workers-demand-fair-pay-rcna34256\">Apple's record revenues during pandemic fuel employees' historic union push</a>,\n",
              " <a href=\"https://www.nbcnews.com/news/us-news/actor-ezra-miller-hit-temporary-protection-order-massachussetts-rcna34177\">Actor Ezra Miller hit with temporary protection order in Massachussetts</a>,\n",
              " <a href=\"https://www.nbcnews.com/news/us-news/louisiana-woman-says-rapist-was-custody-child-ongoing-court-dispute-rcna34140\">Louisiana woman says her rapist was given custody of her child in ongoing court dispute</a>,\n",
              " <a href=\"https://www.nbcnews.com/news/world/russia-ukraine-war-hostage-video-captured-us-veterans-shown-tv-rcna34241\">U.S. veterans captured in Ukraine appear in hostage videos broadcast on Russian TV</a>,\n",
              " <a href=\"https://www.nbcnews.com/news/us-news/families-20-oxford-high-school-students-file-federal-lawsuit-seeking-c-rcna34270\">Families of 20 Oxford High School students file federal lawsuit seeking change after deadly shooting</a>,\n",
              " <a href=\"https://www.nbcnews.com/news/us-news/mark-shields-tv-pundit-political-analyst-dies-85-rcna34268\">Mark Shields, TV pundit and political analyst, dies at 85</a>]"
            ]
          },
          "execution_count": 278,
          "metadata": {},
          "output_type": "execute_result"
        }
      ],
      "source": [
        "coverpage_news[:10]"
      ]
    },
    {
      "cell_type": "markdown",
      "metadata": {
        "id": "KtmcJMeb4YBk"
      },
      "source": [
        "Let's take a look at one example and see what we can use."
      ]
    },
    {
      "cell_type": "code",
      "execution_count": 279,
      "metadata": {
        "id": "F5fSdjPnSLCb"
      },
      "outputs": [],
      "source": [
        "n=0\n",
        "link = coverpage_news[n]['href']\n",
        "title = coverpage_news[n].get_text()\n",
        "article = requests.get(link)\n",
        "article_content = article.content\n",
        "soup_article = BeautifulSoup(article_content, 'html5lib')"
      ]
    },
    {
      "cell_type": "code",
      "execution_count": 280,
      "metadata": {
        "colab": {
          "base_uri": "https://localhost:8080/",
          "height": 35
        },
        "id": "lHHShDlwgr4j",
        "outputId": "6859a8e7-48a4-4f5d-b0e8-381ba4d16004"
      },
      "outputs": [
        {
          "data": {
            "application/vnd.google.colaboratory.intrinsic+json": {
              "type": "string"
            },
            "text/plain": [
              "'Biden bounces back after bike fall near Delaware beach home'"
            ]
          },
          "execution_count": 280,
          "metadata": {},
          "output_type": "execute_result"
        }
      ],
      "source": [
        "title"
      ]
    },
    {
      "cell_type": "code",
      "execution_count": 281,
      "metadata": {
        "colab": {
          "base_uri": "https://localhost:8080/"
        },
        "id": "1TdRPaYKgveq",
        "outputId": "c216f464-ad53-4512-f979-5dc5ec120cab"
      },
      "outputs": [
        {
          "data": {
            "text/plain": [
              "[<p class=\"headline-title-text h-lh js-headline-text\"></p>,\n",
              " <p class=\"menu-section-heading\">Profile</p>,\n",
              " <p class=\"menu-section-heading\">Sections</p>,\n",
              " <p class=\"menu-section-heading\">tv</p>,\n",
              " <p class=\"menu-section-heading\">Featured</p>,\n",
              " <p class=\"menu-section-heading\">More From NBC</p>,\n",
              " <p class=\"menu-section-heading\">Follow NBC News</p>,\n",
              " <p class=\"\">REHOBOTH BEACH, Del. — <a href=\"https://www.nbcnews.com/politics/joe-biden/\" target=\"_blank\">President Joe Biden</a> fell when he tried to get off his bike at the end of a ride Saturday at Cape Henlopen State Park near his <a href=\"https://www.nbcnews.com/politics/joe-biden/biden-first-lady-briefly-moved-delaware-beach-house-small-plane-flies-rcna31992\" target=\"_blank\">beach home in Delaware</a>, but said he wasn’t hurt.</p>,\n",
              " <p class=\"\">“I’m good,” he told reporters after U.S. Secret Service Agents quickly helped him up. “I got my foot caught” in the toe cages.</p>,\n",
              " <p class=\"\">Biden, 79, and first lady Jill Biden were wrapping up a morning ride when the president decided to pedal over to a crowd of well-wishers standing by the bike trail. Biden, who was wearing a helmet, tumbled when he tried to dismount.</p>,\n",
              " <p class=\"\">The president quickly collected himself and spent several minutes chatting with people who had gathered to watch him bike.</p>,\n",
              " <p class=\"endmark\">The Bidens are spending a long weekend at their Rehoboth Beach home. They marked their 45th wedding anniversary on Friday.</p>,\n",
              " <p>© 2022 NBC UNIVERSAL</p>]"
            ]
          },
          "execution_count": 281,
          "metadata": {},
          "output_type": "execute_result"
        }
      ],
      "source": [
        "body = soup_article.find_all('p')#, class_='speakable')\n",
        "body"
      ]
    },
    {
      "cell_type": "markdown",
      "metadata": {
        "id": "NT99e1qR4fJ7"
      },
      "source": [
        "Since we are only interested in the content we will only be using the tag with `class=\"\"` and `class=\"endmark\"`."
      ]
    },
    {
      "cell_type": "code",
      "execution_count": 282,
      "metadata": {
        "colab": {
          "base_uri": "https://localhost:8080/"
        },
        "id": "lwjfN-a6g1aq",
        "outputId": "b40973d2-eb08-4dfc-d3a2-f1fcbd0fe999"
      },
      "outputs": [
        {
          "data": {
            "text/plain": [
              "13"
            ]
          },
          "execution_count": 282,
          "metadata": {},
          "output_type": "execute_result"
        }
      ],
      "source": [
        "len(body)"
      ]
    },
    {
      "cell_type": "code",
      "execution_count": 283,
      "metadata": {
        "colab": {
          "base_uri": "https://localhost:8080/"
        },
        "id": "HmMwbo3Thiwp",
        "outputId": "cebf224d-68d8-4bc8-8973-d902a9c207da"
      },
      "outputs": [
        {
          "data": {
            "text/plain": [
              "5"
            ]
          },
          "execution_count": 283,
          "metadata": {},
          "output_type": "execute_result"
        }
      ],
      "source": [
        "x = soup_article.find_all('p', {'class':['','endmark']})\n",
        "len(x)"
      ]
    },
    {
      "cell_type": "code",
      "execution_count": 284,
      "metadata": {
        "colab": {
          "base_uri": "https://localhost:8080/",
          "height": 35
        },
        "id": "OSiH6uJ1hl9e",
        "outputId": "b5761102-af0c-4a8a-c599-690899029759"
      },
      "outputs": [
        {
          "data": {
            "application/vnd.google.colaboratory.intrinsic+json": {
              "type": "string"
            },
            "text/plain": [
              "'REHOBOTH BEACH, Del. — President Joe Biden fell when he tried to get off his bike at the end of a ride Saturday at Cape Henlopen State Park near his beach home in Delaware, but said he wasn’t hurt.'"
            ]
          },
          "execution_count": 284,
          "metadata": {},
          "output_type": "execute_result"
        }
      ],
      "source": [
        "x[0].get_text()"
      ]
    },
    {
      "cell_type": "markdown",
      "metadata": {
        "id": "wn7IdSJCjWrW"
      },
      "source": [
        "## Let's extract the text from the article"
      ]
    },
    {
      "cell_type": "markdown",
      "metadata": {
        "id": "JBn_2yccjZau"
      },
      "source": [
        "Firts we will define the number of articles we want:"
      ]
    },
    {
      "cell_type": "code",
      "execution_count": 285,
      "metadata": {
        "id": "5S4TvBgDjebZ"
      },
      "outputs": [],
      "source": [
        "number_of_articles = 5"
      ]
    },
    {
      "cell_type": "code",
      "execution_count": 286,
      "metadata": {
        "id": "bRzHqflijg-0"
      },
      "outputs": [],
      "source": [
        "# Empty lists for content, links and titles\n",
        "news_contents = []\n",
        "list_links = []\n",
        "list_titles = []\n",
        "\n",
        "for n in np.arange(0, number_of_articles):\n",
        "        \n",
        "    # Getting the link of the article\n",
        "    link = coverpage_news[n]['href']\n",
        "    list_links.append(link)\n",
        "    \n",
        "    # Getting the title\n",
        "    title = coverpage_news[n].get_text()\n",
        "    list_titles.append(title)\n",
        "    \n",
        "    # Reading the content (it is divided in paragraphs)\n",
        "    article = requests.get(link)\n",
        "    article_content = article.content\n",
        "    soup_article = BeautifulSoup(article_content, 'html5lib')\n",
        "    x = soup_article.find_all('p', {'class':['','endmark']})\n",
        "    \n",
        "    # Unifying the paragraphs\n",
        "    list_paragraphs = []\n",
        "    for p in np.arange(0, len(x)):\n",
        "        paragraph = x[p].get_text()\n",
        "        list_paragraphs.append(paragraph)\n",
        "        final_article = \" \".join(list_paragraphs)\n",
        "        \n",
        "    news_contents.append(final_article)"
      ]
    },
    {
      "cell_type": "markdown",
      "metadata": {
        "id": "N0y7uN2ojnip"
      },
      "source": [
        "Let's put them into:\n",
        "* A dataset which will be the input of the models (df_features)\n",
        "* a dataset with the title and the link (df_show_info)"
      ]
    },
    {
      "cell_type": "code",
      "execution_count": 287,
      "metadata": {
        "id": "7sqeizX4jz4s"
      },
      "outputs": [],
      "source": [
        "# df_features\n",
        "df_features = pd.DataFrame(\n",
        "     {'Article Content': news_contents \n",
        "    })\n",
        "\n",
        "# df_show_info\n",
        "df_show_info = pd.DataFrame(\n",
        "    {'Article Title': list_titles,\n",
        "     'Article Link': list_links})"
      ]
    },
    {
      "cell_type": "code",
      "execution_count": 288,
      "metadata": {
        "colab": {
          "base_uri": "https://localhost:8080/",
          "height": 206
        },
        "id": "T6FN9xtdj2m1",
        "outputId": "30a30728-e613-4e70-d0cb-5446f5f47dd6"
      },
      "outputs": [
        {
          "data": {
            "text/html": [
              "\n",
              "  <div id=\"df-bd752476-7321-4240-bb07-6418a4df0e64\">\n",
              "    <div class=\"colab-df-container\">\n",
              "      <div>\n",
              "<style scoped>\n",
              "    .dataframe tbody tr th:only-of-type {\n",
              "        vertical-align: middle;\n",
              "    }\n",
              "\n",
              "    .dataframe tbody tr th {\n",
              "        vertical-align: top;\n",
              "    }\n",
              "\n",
              "    .dataframe thead th {\n",
              "        text-align: right;\n",
              "    }\n",
              "</style>\n",
              "<table border=\"1\" class=\"dataframe\">\n",
              "  <thead>\n",
              "    <tr style=\"text-align: right;\">\n",
              "      <th></th>\n",
              "      <th>Article Content</th>\n",
              "    </tr>\n",
              "  </thead>\n",
              "  <tbody>\n",
              "    <tr>\n",
              "      <th>0</th>\n",
              "      <td>REHOBOTH BEACH, Del. — President Joe Biden fel...</td>\n",
              "    </tr>\n",
              "    <tr>\n",
              "      <th>1</th>\n",
              "      <td>Ukraine is urging the United States and the Eu...</td>\n",
              "    </tr>\n",
              "    <tr>\n",
              "      <th>2</th>\n",
              "      <td>A federal waiver that made school breakfasts a...</td>\n",
              "    </tr>\n",
              "    <tr>\n",
              "      <th>3</th>\n",
              "      <td>Tennessee Sen. Marsha Blackburn, an anti-abort...</td>\n",
              "    </tr>\n",
              "    <tr>\n",
              "      <th>4</th>\n",
              "      <td>Whenever Noah McCool pitches his co-workers at...</td>\n",
              "    </tr>\n",
              "  </tbody>\n",
              "</table>\n",
              "</div>\n",
              "      <button class=\"colab-df-convert\" onclick=\"convertToInteractive('df-bd752476-7321-4240-bb07-6418a4df0e64')\"\n",
              "              title=\"Convert this dataframe to an interactive table.\"\n",
              "              style=\"display:none;\">\n",
              "        \n",
              "  <svg xmlns=\"http://www.w3.org/2000/svg\" height=\"24px\"viewBox=\"0 0 24 24\"\n",
              "       width=\"24px\">\n",
              "    <path d=\"M0 0h24v24H0V0z\" fill=\"none\"/>\n",
              "    <path d=\"M18.56 5.44l.94 2.06.94-2.06 2.06-.94-2.06-.94-.94-2.06-.94 2.06-2.06.94zm-11 1L8.5 8.5l.94-2.06 2.06-.94-2.06-.94L8.5 2.5l-.94 2.06-2.06.94zm10 10l.94 2.06.94-2.06 2.06-.94-2.06-.94-.94-2.06-.94 2.06-2.06.94z\"/><path d=\"M17.41 7.96l-1.37-1.37c-.4-.4-.92-.59-1.43-.59-.52 0-1.04.2-1.43.59L10.3 9.45l-7.72 7.72c-.78.78-.78 2.05 0 2.83L4 21.41c.39.39.9.59 1.41.59.51 0 1.02-.2 1.41-.59l7.78-7.78 2.81-2.81c.8-.78.8-2.07 0-2.86zM5.41 20L4 18.59l7.72-7.72 1.47 1.35L5.41 20z\"/>\n",
              "  </svg>\n",
              "      </button>\n",
              "      \n",
              "  <style>\n",
              "    .colab-df-container {\n",
              "      display:flex;\n",
              "      flex-wrap:wrap;\n",
              "      gap: 12px;\n",
              "    }\n",
              "\n",
              "    .colab-df-convert {\n",
              "      background-color: #E8F0FE;\n",
              "      border: none;\n",
              "      border-radius: 50%;\n",
              "      cursor: pointer;\n",
              "      display: none;\n",
              "      fill: #1967D2;\n",
              "      height: 32px;\n",
              "      padding: 0 0 0 0;\n",
              "      width: 32px;\n",
              "    }\n",
              "\n",
              "    .colab-df-convert:hover {\n",
              "      background-color: #E2EBFA;\n",
              "      box-shadow: 0px 1px 2px rgba(60, 64, 67, 0.3), 0px 1px 3px 1px rgba(60, 64, 67, 0.15);\n",
              "      fill: #174EA6;\n",
              "    }\n",
              "\n",
              "    [theme=dark] .colab-df-convert {\n",
              "      background-color: #3B4455;\n",
              "      fill: #D2E3FC;\n",
              "    }\n",
              "\n",
              "    [theme=dark] .colab-df-convert:hover {\n",
              "      background-color: #434B5C;\n",
              "      box-shadow: 0px 1px 3px 1px rgba(0, 0, 0, 0.15);\n",
              "      filter: drop-shadow(0px 1px 2px rgba(0, 0, 0, 0.3));\n",
              "      fill: #FFFFFF;\n",
              "    }\n",
              "  </style>\n",
              "\n",
              "      <script>\n",
              "        const buttonEl =\n",
              "          document.querySelector('#df-bd752476-7321-4240-bb07-6418a4df0e64 button.colab-df-convert');\n",
              "        buttonEl.style.display =\n",
              "          google.colab.kernel.accessAllowed ? 'block' : 'none';\n",
              "\n",
              "        async function convertToInteractive(key) {\n",
              "          const element = document.querySelector('#df-bd752476-7321-4240-bb07-6418a4df0e64');\n",
              "          const dataTable =\n",
              "            await google.colab.kernel.invokeFunction('convertToInteractive',\n",
              "                                                     [key], {});\n",
              "          if (!dataTable) return;\n",
              "\n",
              "          const docLinkHtml = 'Like what you see? Visit the ' +\n",
              "            '<a target=\"_blank\" href=https://colab.research.google.com/notebooks/data_table.ipynb>data table notebook</a>'\n",
              "            + ' to learn more about interactive tables.';\n",
              "          element.innerHTML = '';\n",
              "          dataTable['output_type'] = 'display_data';\n",
              "          await google.colab.output.renderOutput(dataTable, element);\n",
              "          const docLink = document.createElement('div');\n",
              "          docLink.innerHTML = docLinkHtml;\n",
              "          element.appendChild(docLink);\n",
              "        }\n",
              "      </script>\n",
              "    </div>\n",
              "  </div>\n",
              "  "
            ],
            "text/plain": [
              "                                     Article Content\n",
              "0  REHOBOTH BEACH, Del. — President Joe Biden fel...\n",
              "1  Ukraine is urging the United States and the Eu...\n",
              "2  A federal waiver that made school breakfasts a...\n",
              "3  Tennessee Sen. Marsha Blackburn, an anti-abort...\n",
              "4  Whenever Noah McCool pitches his co-workers at..."
            ]
          },
          "execution_count": 288,
          "metadata": {},
          "output_type": "execute_result"
        }
      ],
      "source": [
        "df_features"
      ]
    },
    {
      "cell_type": "code",
      "execution_count": 289,
      "metadata": {
        "colab": {
          "base_uri": "https://localhost:8080/",
          "height": 206
        },
        "id": "jpVC_bx4shQV",
        "outputId": "f8edcfa7-01fd-4e0e-ed8b-29f8367bf56c"
      },
      "outputs": [
        {
          "data": {
            "text/html": [
              "\n",
              "  <div id=\"df-4f67eee2-6629-4caa-a40c-6327f7d2817d\">\n",
              "    <div class=\"colab-df-container\">\n",
              "      <div>\n",
              "<style scoped>\n",
              "    .dataframe tbody tr th:only-of-type {\n",
              "        vertical-align: middle;\n",
              "    }\n",
              "\n",
              "    .dataframe tbody tr th {\n",
              "        vertical-align: top;\n",
              "    }\n",
              "\n",
              "    .dataframe thead th {\n",
              "        text-align: right;\n",
              "    }\n",
              "</style>\n",
              "<table border=\"1\" class=\"dataframe\">\n",
              "  <thead>\n",
              "    <tr style=\"text-align: right;\">\n",
              "      <th></th>\n",
              "      <th>Article Title</th>\n",
              "      <th>Article Link</th>\n",
              "    </tr>\n",
              "  </thead>\n",
              "  <tbody>\n",
              "    <tr>\n",
              "      <th>0</th>\n",
              "      <td>Biden bounces back after bike fall near Delawa...</td>\n",
              "      <td>https://www.nbcnews.com/politics/joe-biden/bid...</td>\n",
              "    </tr>\n",
              "    <tr>\n",
              "      <th>1</th>\n",
              "      <td>Ukraine is accusing a major Russian bank of fi...</td>\n",
              "      <td>https://www.nbcnews.com/news/world/big-sanctio...</td>\n",
              "    </tr>\n",
              "    <tr>\n",
              "      <th>2</th>\n",
              "      <td>Free school lunches for all set to end, creati...</td>\n",
              "      <td>https://www.nbcnews.com/news/us-news/free-scho...</td>\n",
              "    </tr>\n",
              "    <tr>\n",
              "      <th>3</th>\n",
              "      <td>Senator who questioned Supreme Court birth con...</td>\n",
              "      <td>https://www.nbcnews.com/news/us-news/senator-q...</td>\n",
              "    </tr>\n",
              "    <tr>\n",
              "      <th>4</th>\n",
              "      <td>Apple's record revenues during pandemic fuel e...</td>\n",
              "      <td>https://www.nbcnews.com/tech/apple/apple-store...</td>\n",
              "    </tr>\n",
              "  </tbody>\n",
              "</table>\n",
              "</div>\n",
              "      <button class=\"colab-df-convert\" onclick=\"convertToInteractive('df-4f67eee2-6629-4caa-a40c-6327f7d2817d')\"\n",
              "              title=\"Convert this dataframe to an interactive table.\"\n",
              "              style=\"display:none;\">\n",
              "        \n",
              "  <svg xmlns=\"http://www.w3.org/2000/svg\" height=\"24px\"viewBox=\"0 0 24 24\"\n",
              "       width=\"24px\">\n",
              "    <path d=\"M0 0h24v24H0V0z\" fill=\"none\"/>\n",
              "    <path d=\"M18.56 5.44l.94 2.06.94-2.06 2.06-.94-2.06-.94-.94-2.06-.94 2.06-2.06.94zm-11 1L8.5 8.5l.94-2.06 2.06-.94-2.06-.94L8.5 2.5l-.94 2.06-2.06.94zm10 10l.94 2.06.94-2.06 2.06-.94-2.06-.94-.94-2.06-.94 2.06-2.06.94z\"/><path d=\"M17.41 7.96l-1.37-1.37c-.4-.4-.92-.59-1.43-.59-.52 0-1.04.2-1.43.59L10.3 9.45l-7.72 7.72c-.78.78-.78 2.05 0 2.83L4 21.41c.39.39.9.59 1.41.59.51 0 1.02-.2 1.41-.59l7.78-7.78 2.81-2.81c.8-.78.8-2.07 0-2.86zM5.41 20L4 18.59l7.72-7.72 1.47 1.35L5.41 20z\"/>\n",
              "  </svg>\n",
              "      </button>\n",
              "      \n",
              "  <style>\n",
              "    .colab-df-container {\n",
              "      display:flex;\n",
              "      flex-wrap:wrap;\n",
              "      gap: 12px;\n",
              "    }\n",
              "\n",
              "    .colab-df-convert {\n",
              "      background-color: #E8F0FE;\n",
              "      border: none;\n",
              "      border-radius: 50%;\n",
              "      cursor: pointer;\n",
              "      display: none;\n",
              "      fill: #1967D2;\n",
              "      height: 32px;\n",
              "      padding: 0 0 0 0;\n",
              "      width: 32px;\n",
              "    }\n",
              "\n",
              "    .colab-df-convert:hover {\n",
              "      background-color: #E2EBFA;\n",
              "      box-shadow: 0px 1px 2px rgba(60, 64, 67, 0.3), 0px 1px 3px 1px rgba(60, 64, 67, 0.15);\n",
              "      fill: #174EA6;\n",
              "    }\n",
              "\n",
              "    [theme=dark] .colab-df-convert {\n",
              "      background-color: #3B4455;\n",
              "      fill: #D2E3FC;\n",
              "    }\n",
              "\n",
              "    [theme=dark] .colab-df-convert:hover {\n",
              "      background-color: #434B5C;\n",
              "      box-shadow: 0px 1px 3px 1px rgba(0, 0, 0, 0.15);\n",
              "      filter: drop-shadow(0px 1px 2px rgba(0, 0, 0, 0.3));\n",
              "      fill: #FFFFFF;\n",
              "    }\n",
              "  </style>\n",
              "\n",
              "      <script>\n",
              "        const buttonEl =\n",
              "          document.querySelector('#df-4f67eee2-6629-4caa-a40c-6327f7d2817d button.colab-df-convert');\n",
              "        buttonEl.style.display =\n",
              "          google.colab.kernel.accessAllowed ? 'block' : 'none';\n",
              "\n",
              "        async function convertToInteractive(key) {\n",
              "          const element = document.querySelector('#df-4f67eee2-6629-4caa-a40c-6327f7d2817d');\n",
              "          const dataTable =\n",
              "            await google.colab.kernel.invokeFunction('convertToInteractive',\n",
              "                                                     [key], {});\n",
              "          if (!dataTable) return;\n",
              "\n",
              "          const docLinkHtml = 'Like what you see? Visit the ' +\n",
              "            '<a target=\"_blank\" href=https://colab.research.google.com/notebooks/data_table.ipynb>data table notebook</a>'\n",
              "            + ' to learn more about interactive tables.';\n",
              "          element.innerHTML = '';\n",
              "          dataTable['output_type'] = 'display_data';\n",
              "          await google.colab.output.renderOutput(dataTable, element);\n",
              "          const docLink = document.createElement('div');\n",
              "          docLink.innerHTML = docLinkHtml;\n",
              "          element.appendChild(docLink);\n",
              "        }\n",
              "      </script>\n",
              "    </div>\n",
              "  </div>\n",
              "  "
            ],
            "text/plain": [
              "                                       Article Title  \\\n",
              "0  Biden bounces back after bike fall near Delawa...   \n",
              "1  Ukraine is accusing a major Russian bank of fi...   \n",
              "2  Free school lunches for all set to end, creati...   \n",
              "3  Senator who questioned Supreme Court birth con...   \n",
              "4  Apple's record revenues during pandemic fuel e...   \n",
              "\n",
              "                                        Article Link  \n",
              "0  https://www.nbcnews.com/politics/joe-biden/bid...  \n",
              "1  https://www.nbcnews.com/news/world/big-sanctio...  \n",
              "2  https://www.nbcnews.com/news/us-news/free-scho...  \n",
              "3  https://www.nbcnews.com/news/us-news/senator-q...  \n",
              "4  https://www.nbcnews.com/tech/apple/apple-store...  "
            ]
          },
          "execution_count": 289,
          "metadata": {},
          "output_type": "execute_result"
        }
      ],
      "source": [
        "df_show_info"
      ]
    }
  ],
  "metadata": {
    "colab": {
      "collapsed_sections": [],
      "name": "WS_NBC.ipynb",
      "provenance": []
    },
    "kernelspec": {
      "display_name": "Python 3",
      "name": "python3"
    },
    "language_info": {
      "name": "python"
    }
  },
  "nbformat": 4,
  "nbformat_minor": 0
}
